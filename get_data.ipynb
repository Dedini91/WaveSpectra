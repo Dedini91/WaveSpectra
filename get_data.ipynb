{
  "cells": [
    {
      "cell_type": "code",
      "source": [
        "from google.colab import drive\n",
        "drive.mount('/content/gdrive')"
      ],
      "metadata": {
        "id": "-58G3c3LKpN5"
      },
      "id": "-58G3c3LKpN5",
      "execution_count": null,
      "outputs": []
    },
    {
      "cell_type": "code",
      "source": [
        "!pip install wavespectra[extra]"
      ],
      "metadata": {
        "id": "kJhjQe_CLAeq"
      },
      "id": "kJhjQe_CLAeq",
      "execution_count": null,
      "outputs": []
    },
    {
      "cell_type": "code",
      "execution_count": null,
      "id": "surprised-jacket",
      "metadata": {
        "id": "surprised-jacket"
      },
      "outputs": [],
      "source": [
        "!pip install tqdm\n",
        "import wavespectra\n",
        "import pandas as pd\n",
        "import xarray as xr\n",
        "import matplotlib.pyplot as plt\n",
        "import matplotlib.colorbar as cb\n",
        "from matplotlib.colors import Colormap\n",
        "import numpy as np\n",
        "from PIL import Image\n",
        "from tqdm import tqdm"
      ]
    },
    {
      "cell_type": "markdown",
      "id": "stone-stand",
      "metadata": {
        "id": "stone-stand"
      },
      "source": [
        "## Read data from .netdcf files"
      ]
    },
    {
      "cell_type": "code",
      "execution_count": null,
      "id": "secondary-rescue",
      "metadata": {
        "id": "secondary-rescue"
      },
      "outputs": [],
      "source": [
        "speccyO = wavespectra.read_netcdf('/content/gdrive/MyDrive/WaveSpectra_CAE/data/BoundarySpectrum.netcdf')\n",
        "speccyI = wavespectra.read_netcdf('/content/gdrive/MyDrive/WaveSpectra_CAE/data/NearshoreSpectrum_GC.netcdf')"
      ]
    },
    {
      "cell_type": "markdown",
      "id": "human-union",
      "metadata": {
        "id": "human-union"
      },
      "source": [
        "Check for and remove any duplicates"
      ]
    },
    {
      "cell_type": "code",
      "execution_count": null,
      "id": "union-marks",
      "metadata": {
        "id": "union-marks"
      },
      "outputs": [],
      "source": [
        "speccyO = speccyO.sel(time=~speccyO.indexes['time'].duplicated())\n",
        "speccyI = speccyI.sel(time=~speccyI.indexes['time'].duplicated())\n",
        "speccyO = speccyO.sel(time=slice('2001-01-01', '2020-01-01'))\n",
        "speccyI = speccyI.sel(time=slice('2001-01-01', '2020-01-01'))\n",
        "speccyO = speccyO.isel(dict(lat = 0, lon = 0))"
      ]
    },
    {
      "cell_type": "markdown",
      "id": "olive-economy",
      "metadata": {
        "id": "olive-economy"
      },
      "source": [
        "Preview the offshore/near shore spectra."
      ]
    },
    {
      "cell_type": "code",
      "execution_count": null,
      "id": "helpful-klein",
      "metadata": {
        "id": "helpful-klein"
      },
      "outputs": [],
      "source": [
        "speccyO.efth.sortby('dir').isel(time=slice(80000, 80002)).plot(x= 'freq', y = 'dir', col = 'time', col_wrap = 4)\n",
        "speccyI.efth.sortby('dir').isel(time=slice(80000, 80002)).plot(x= 'freq', y = 'dir', col = 'time', col_wrap = 4)"
      ]
    },
    {
      "cell_type": "markdown",
      "source": [
        "###Save data as compressed .npz files\n",
        "\n",
        "* Inidividual samples are numbered according to their position in the xarray, starting from '2001-01-01'\n",
        "* Manually create destination folders (data/Offshore and data/Nearshore); change paths accordingly"
      ],
      "metadata": {
        "id": "mtIodWZ_dcN3"
      },
      "id": "mtIodWZ_dcN3"
    },
    {
      "cell_type": "code",
      "source": [
        "num_samples = 8760 * 2  # 8760 samples per year\n",
        "\n",
        "offshore_data = [None] * num_samples\n",
        "offshore_name = [None] * num_samples\n",
        "nearshore_data = [None] * num_samples\n",
        "nearshore_name = [None] * num_samples\n",
        "\n",
        "for i in tqdm(range(0, num_samples)):\n",
        "  offshore_data[i] = np.array(speccyO.efth.sortby('dir').isel(time=i))\n",
        "  offshore_name[i] = str(i).zfill(5)\n",
        "  nearshore_data[i] = np.array(speccyI.efth.sortby('dir').isel(time=i))\n",
        "  nearshore_name[i] = str(i).zfill(5)\n",
        "\n",
        "offshore_dict = dict(zip(offshore_name, offshore_data))\n",
        "np.savez_compressed('/content/gdrive/MyDrive/WaveSpectra_CAE/data/offshore_2yr', **offshore_dict)\n",
        "print(\"Offshore data saved\\n\")\n",
        "\n",
        "nearshore_dict = dict(zip(nearshore_name, nearshore_data))\n",
        "np.savez_compressed('/content/gdrive/MyDrive/WaveSpectra_CAE/data/nearshore_2yr', **nearshore_dict)\n",
        "print(\"Near shore data saved\\n\")"
      ],
      "metadata": {
        "id": "yxDx6wC6Oyub"
      },
      "id": "yxDx6wC6Oyub",
      "execution_count": null,
      "outputs": []
    },
    {
      "cell_type": "code",
      "source": [
        "# Check the .npy files are being saved correctly\n",
        "# Change paths accordingly\n",
        "\n",
        "sample_index = 7564\n",
        "\n",
        "offshore = np.load('/content/gdrive/MyDrive/WaveSpectra_CAE/data/offshore.npz')\n",
        "offshore.files\n",
        "plt.imshow(offshore[str(sample_index).zfill(5)].astype(np.float32), cmap='gray')\n",
        "plt.axis('off')\n",
        "plt.pad_inches = 0\n",
        "plt.tight_layout\n",
        "plt.show()\n",
        "\n",
        "nearshore = np.load('/content/gdrive/MyDrive/WaveSpectra_CAE/data/nearshore.npz')\n",
        "nearshore.files\n",
        "plt.imshow(nearshore[str(sample_index).zfill(5)].astype(np.float32), cmap='gray')\n",
        "plt.axis('off')\n",
        "plt.pad_inches = 0\n",
        "plt.tight_layout\n",
        "plt.show()\n"
      ],
      "metadata": {
        "id": "u33MdRuxK9tm"
      },
      "id": "u33MdRuxK9tm",
      "execution_count": null,
      "outputs": []
    }
  ],
  "metadata": {
    "kernelspec": {
      "display_name": "Python 3",
      "language": "python",
      "name": "python3"
    },
    "language_info": {
      "codemirror_mode": {
        "name": "ipython",
        "version": 3
      },
      "file_extension": ".py",
      "mimetype": "text/x-python",
      "name": "python",
      "nbconvert_exporter": "python",
      "pygments_lexer": "ipython3",
      "version": "3.8.8"
    },
    "colab": {
      "provenance": []
    }
  },
  "nbformat": 4,
  "nbformat_minor": 5
}