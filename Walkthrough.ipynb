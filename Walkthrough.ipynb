{
  "cells": [
    {
      "cell_type": "markdown",
      "metadata": {
        "id": "TiOubRhrzIOV"
      },
      "source": [
        "# Installation\n",
        "* Mount Google Drive\n",
        "* Clone GitHub repo\n",
        "* Install required packages\n",
        "\n",
        "**get_data.ipynb should already have been executed**"
      ]
    },
    {
      "cell_type": "code",
      "execution_count": null,
      "metadata": {
        "id": "-QJTNilBbrL4"
      },
      "outputs": [],
      "source": [
        "from google.colab import drive\n",
        "drive.mount('/content/gdrive')\n",
        "%cd gdrive/MyDrive"
      ]
    },
    {
      "cell_type": "code",
      "execution_count": null,
      "metadata": {
        "id": "-8aooItnc7H4"
      },
      "outputs": [],
      "source": [
        "!git clone https://github.com/Dedini91/WaveSpectra_CAE.git"
      ]
    },
    {
      "cell_type": "code",
      "execution_count": null,
      "metadata": {
        "id": "vTor0fFQi9WZ"
      },
      "outputs": [],
      "source": [
        "%cd WaveSpectra_CAE/"
      ]
    },
    {
      "cell_type": "code",
      "execution_count": null,
      "metadata": {
        "id": "TmOdtaPgi2VP"
      },
      "outputs": [],
      "source": [
        "!pip install -r requirements.txt"
      ]
    },
    {
      "cell_type": "markdown",
      "metadata": {
        "id": "G5wf8aBrpkM0"
      },
      "source": [
        "# Preprocess & create dataset\n",
        "***data/raw/*** and Offshore/NearShore subfolders should already exist\n",
        "\n",
        "* See make_balanced_dataset.py for details on clustering"
      ]
    },
    {
      "cell_type": "code",
      "execution_count": null,
      "metadata": {
        "id": "mzslSbHhpid0"
      },
      "outputs": [],
      "source": [
        "!python make_balanced_dataset.py --data data/ -n balanced -s 2000 -c 12"
      ]
    },
    {
      "cell_type": "markdown",
      "metadata": {
        "id": "dY7IuoF2qD15"
      },
      "source": [
        "# Training\n",
        "Must be provided with:\n",
        "* Experiment name\n",
        "* Data folder path\n",
        "\n",
        "See README for list of all available commands & their default settings"
      ]
    },
    {
      "cell_type": "code",
      "execution_count": null,
      "metadata": {
        "id": "2HDLElXqhojw"
      },
      "outputs": [],
      "source": [
        "!python train.py --verbose -d \"/content/gdrive/MyDrive/WaveSpectra_CAE/data/processed\" -n test_newdata -e 3 -b 1 --lr 0.00001 --lr_min 0.000005 --track 00168"
      ]
    },
    {
      "cell_type": "code",
      "execution_count": null,
      "metadata": {
        "id": "n50D3QRq4bwH"
      },
      "outputs": [],
      "source": [
        "def make_gif(frame_folder, savepath, foldername):\n",
        "    pathname = savepath + \"/\" + foldername + \"/\"\n",
        "    frames = [Image.open(image) for image in glob(f\"{frame_folder}/*.jpg\")]\n",
        "    frame_one = frames[0]\n",
        "    frame_one.save(pathname + \"training.gif\", format=\"gif\", append_images=frames,\n",
        "                   save_all=True, duration=100, loop=0)\n",
        "    return None\n",
        "\n",
        "pathname = str(preds_tr_path) + \"/\" + str(args['track']) + \"/\"\n",
        "  make_gif(pathname, str(preds_tr_path), str(args['track']))\n"
      ]
    },
    {
      "cell_type": "markdown",
      "metadata": {
        "id": "UeRkGcQVyRxR"
      },
      "source": [
        "# Evaluation\n",
        "Must be provided with a model, image folder, and target folder path"
      ]
    },
    {
      "cell_type": "code",
      "execution_count": null,
      "metadata": {
        "id": "GJb-RjpZoSG1"
      },
      "outputs": [],
      "source": [
        "!python evaluate.py --model_path \"/content/gdrive/MyDrive/WaveSpectra_CAE/results/colabTest/04-28_0209/model/best_model.pth\" --img_path \"/content/gdrive/MyDrive/WaveSpectra_CAE/data/processed/x_test\" --target_path \"/content/gdrive/MyDrive/WaveSpectra_CAE/data/processed/y_test\" --verbose"
      ]
    },
    {
      "cell_type": "markdown",
      "metadata": {
        "id": "fpeGtoZTrEQO"
      },
      "source": [
        "# Inference\n",
        "Must be provided with a model and image folder path"
      ]
    },
    {
      "cell_type": "code",
      "execution_count": null,
      "metadata": {
        "id": "ua0D4GVBrJvd"
      },
      "outputs": [],
      "source": [
        "!python predict.py --model_path \"/content/gdrive/MyDrive/WaveSpectra_CAE/results/colabTest/04-28_0209/model/best_model.pth\" --img_path \"/content/gdrive/MyDrive/WaveSpectra_CAE/data/processed/x_test\""
      ]
    }
  ],
  "metadata": {
    "accelerator": "GPU",
    "colab": {
      "provenance": []
    },
    "gpuClass": "standard",
    "kernelspec": {
      "display_name": "Python 3",
      "name": "python3"
    },
    "language_info": {
      "name": "python"
    }
  },
  "nbformat": 4,
  "nbformat_minor": 0
}
