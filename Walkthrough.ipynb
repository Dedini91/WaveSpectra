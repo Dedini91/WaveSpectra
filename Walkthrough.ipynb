{
  "cells": [
    {
      "cell_type": "markdown",
      "metadata": {
        "id": "TiOubRhrzIOV"
      },
      "source": [
        "# Installation\n",
        "* Mount Google Drive\n",
        "* Clone GitHub repo\n",
        "* Install required packages\n",
        "* Data should have already been processed locally using make_balanced_dataset.py\n",
        "\n",
        "\n",
        "**For fastest training, upload dataset (x_train.npz, ...) directly to session storage**"
      ]
    },
    {
      "cell_type": "code",
      "execution_count": null,
      "metadata": {
        "id": "-QJTNilBbrL4"
      },
      "outputs": [],
      "source": [
        "from google.colab import drive\n",
        "drive.mount('/content/gdrive')\n",
        "%cd gdrive/MyDrive"
      ]
    },
    {
      "cell_type": "code",
      "execution_count": null,
      "metadata": {
        "id": "-8aooItnc7H4"
      },
      "outputs": [],
      "source": [
        "!git clone https://github.com/Dedini91/WaveSpectra.git"
      ]
    },
    {
      "cell_type": "code",
      "execution_count": null,
      "metadata": {
        "id": "vTor0fFQi9WZ"
      },
      "outputs": [],
      "source": [
        "%cd WaveSpectra_CAE/"
      ]
    },
    {
      "cell_type": "code",
      "execution_count": null,
      "metadata": {
        "id": "TmOdtaPgi2VP"
      },
      "outputs": [],
      "source": [
        "!pip uninstall tensorflow -y\n",
        "!pip install -r requirements.txt"
      ]
    },
    {
      "cell_type": "markdown",
      "metadata": {
        "id": "dY7IuoF2qD15"
      },
      "source": [
        "# Training\n",
        "Required arguments:\n",
        "* Experiment name\n",
        "* Path to dataset (directory containing x_train.npz, x_val.npz, ...)\n",
        "\n",
        "**Example usage:**\n",
        "\n",
        "Basic:\n",
        "\n",
        "!python train.py -n experiment_name\n",
        "\n",
        "Advanced:\n",
        "\n",
        "python train.py -n exp_name --verbose --cache -d path/to/folder/containing/npz_files -b 1 -e 30 --lr 0.00001 --track 05902 --outputs --device cuda --num_workers 1\n",
        "\n",
        "**If training is interrupted, resume using the following**\n",
        "\n",
        "python train.py -n resume_exp --verbose --cache -d path/to/folder/containing/npz_files --model_path path/to/model/last.pth --track 05902 --outputs --device cuda --resume --num_workers 1\n",
        "\n",
        "\n",
        "List available arguments:\n",
        "\n",
        "!python train.py --help\n"
      ]
    },
    {
      "cell_type": "code",
      "execution_count": null,
      "metadata": {
        "id": "2HDLElXqhojw"
      },
      "outputs": [],
      "source": [
        "!python train.py --verbose -n exp_1 -e 50 -b 1 --lr 0.00001 --lr_min 0.000005 --track 05902 --device cuda --cache -d /content --num_workers 1"
      ]
    },
    {
      "cell_type": "markdown",
      "metadata": {
        "id": "UeRkGcQVyRxR"
      },
      "source": [
        "# Evaluation\n",
        "Must be provided with paths to a trained model, and the directory containing data files (\"/content\" if data is in session storage)"
      ]
    },
    {
      "cell_type": "code",
      "execution_count": null,
      "metadata": {
        "id": "GJb-RjpZoSG1"
      },
      "outputs": [],
      "source": [
        "python evaluate.py --model_path path/to/best_model.pth -d path/to/folder/containing/npz_files --verbose --device cuda"
      ]
    },
    {
      "cell_type": "markdown",
      "source": [
        "# Evaluation\n",
        "Must be provided with paths to a trained model, and the .npz file for testing"
      ],
      "metadata": {
        "id": "hEJCbHnPaIiB"
      }
    },
    {
      "cell_type": "code",
      "execution_count": null,
      "metadata": {
        "id": "ua0D4GVBrJvd"
      },
      "outputs": [],
      "source": [
        "python predict.py -d data/x_test.npz --model_path path/to/best_model.pth"
      ]
    }
  ],
  "metadata": {
    "accelerator": "GPU",
    "colab": {
      "provenance": []
    },
    "gpuClass": "standard",
    "kernelspec": {
      "display_name": "Python 3",
      "name": "python3"
    },
    "language_info": {
      "name": "python"
    }
  },
  "nbformat": 4,
  "nbformat_minor": 0
}