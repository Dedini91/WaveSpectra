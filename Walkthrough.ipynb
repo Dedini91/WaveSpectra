{
  "nbformat": 4,
  "nbformat_minor": 0,
  "metadata": {
    "colab": {
      "provenance": []
    },
    "kernelspec": {
      "name": "python3",
      "display_name": "Python 3"
    },
    "language_info": {
      "name": "python"
    },
    "accelerator": "GPU",
    "gpuClass": "standard"
  },
  "cells": [
    {
      "cell_type": "markdown",
      "source": [
        "# Installation\n",
        "* Mount Google Drive\n",
        "* Clone GitHub repo\n",
        "* Install required packages\n",
        "\n",
        "**get_data.ipynb should already have been executed**"
      ],
      "metadata": {
        "id": "TiOubRhrzIOV"
      }
    },
    {
      "cell_type": "code",
      "execution_count": null,
      "metadata": {
        "id": "-QJTNilBbrL4"
      },
      "outputs": [],
      "source": [
        "from google.colab import drive\n",
        "drive.mount('/content/gdrive')\n",
        "%cd gdrive/MyDrive"
      ]
    },
    {
      "cell_type": "code",
      "source": [
        "!git clone https://github.com/Dedini91/WaveSpectra_CAE.git"
      ],
      "metadata": {
        "id": "-8aooItnc7H4"
      },
      "execution_count": null,
      "outputs": []
    },
    {
      "cell_type": "code",
      "source": [
        "%cd WaveSpectra_CAE/"
      ],
      "metadata": {
        "id": "vTor0fFQi9WZ"
      },
      "execution_count": null,
      "outputs": []
    },
    {
      "cell_type": "code",
      "source": [
        "!pip install -r requirements.txt"
      ],
      "metadata": {
        "id": "TmOdtaPgi2VP"
      },
      "execution_count": null,
      "outputs": []
    },
    {
      "cell_type": "markdown",
      "source": [
        "# Preprocess & create dataset\n",
        "***data/raw/*** and Offshore/NearShore subfolders should already exist"
      ],
      "metadata": {
        "id": "G5wf8aBrpkM0"
      }
    },
    {
      "cell_type": "code",
      "source": [
        "!python path/to/make_balanced_dataset.py --data data/ -n balanced -s 2000 -c 12"
      ],
      "metadata": {
        "id": "mzslSbHhpid0"
      },
      "execution_count": null,
      "outputs": []
    },
    {
      "cell_type": "markdown",
      "source": [
        "# Training\n",
        "Must be provided with:\n",
        "* Experiment name\n",
        "* Data folder path\n",
        "\n",
      ],
      "metadata": {
        "id": "dY7IuoF2qD15"
      }
    },
    {
      "cell_type": "code",
      "source": [
        "!python /content/gdrive/MyDrive/WaveSpectra_CAE/train.py -n exp_name -d \"/content/gdrive/MyDrive/WaveSpectra_CAE/data/processed\" -b 1 -e 5 --lr 0.000028 --lr_min 0.000015 --prototyping --verbose"
      ],
      "metadata": {
        "id": "2HDLElXqhojw"
      },
      "execution_count": null,
      "outputs": []
    },
    {
      "cell_type": "markdown",
      "source": [
        "# Evaluation\n",
        "Must be provided with a model, image folder, and target folder path"
      ],
      "metadata": {
        "id": "UeRkGcQVyRxR"
      }
    },
    {
      "cell_type": "code",
      "source": [
        "!python evaluate.py --model_path \"/content/gdrive/MyDrive/WaveSpectra_CAE/results/exp_name/04-17_1903/model/best_model.pth\" --img_path \"/content/gdrive/MyDrive/WaveSpectra_CAE/data/processed/red_x_test\" --target_path \"/content/gdrive/MyDrive/WaveSpectra_CAE/data/processed/red_y_train\" --verbose"
      ],
      "metadata": {
        "id": "GJb-RjpZoSG1"
      },
      "execution_count": null,
      "outputs": []
    },
    {
      "cell_type": "markdown",
      "source": [
        "# Inference: Prediction/Generation\n",
        "Must be provided with a model and image folder path"
      ],
      "metadata": {
        "id": "fpeGtoZTrEQO"
      }
    },
    {
      "cell_type": "code",
      "source": [
        "!python predict.py --model_path \"/content/gdrive/MyDrive/WaveSpectra_CAE/results/exp_name/04-17_1903/model/best_model.pth\" --img_path \"/content/gdrive/MyDrive/WaveSpectra_CAE/data/processed/red_x_test\""
      ],
      "metadata": {
        "id": "ua0D4GVBrJvd"
      },
      "execution_count": null,
      "outputs": []
    }
  ]
}
